{
 "cells": [
  {
   "cell_type": "markdown",
   "id": "93f23dbd",
   "metadata": {},
   "source": [
    "### Imports"
   ]
  },
  {
   "cell_type": "code",
   "execution_count": 1,
   "id": "72db55a7",
   "metadata": {},
   "outputs": [],
   "source": [
    "from qbo import QBO\n",
    "from qmc import QMC\n",
    "import numpy as np\n",
    "from sklearn import svm\n",
    "import pandas as pd\n",
    "from sklearn.model_selection import train_test_split\n",
    "from qiskit_aer.noise import NoiseModel\n",
    "from qiskit.providers.fake_provider import FakeWashington\n",
    "import matplotlib.pyplot as plt"
   ]
  },
  {
   "cell_type": "markdown",
   "id": "1dd02793",
   "metadata": {},
   "source": [
    "### Experiment Config"
   ]
  },
  {
   "cell_type": "code",
   "execution_count": null,
   "id": "582c59f7",
   "metadata": {},
   "outputs": [],
   "source": [
    "# Quantum simulation device\n",
    "device = FakeWashington()\n",
    "coupling_map = device.configuration().coupling_map\n",
    "noise_model = NoiseModel.from_backend(device)\n",
    "\n",
    "# Quantum params\n",
    "quantum_noise = False\n",
    "max_iter = 1000 # 20 min runtime for 1000\n",
    "uncertainty_dim = 6 # number of qubits to use (exponentially increases runtime)"
   ]
  },
  {
   "cell_type": "code",
   "execution_count": null,
   "id": "8f1655c5",
   "metadata": {},
   "outputs": [],
   "source": [
    "# Lookahead prior sampling\n",
    "dim1 = np.linspace(0, 1, 10) # add these alongside prior domain. treat as arb gridspace\n",
    "dim2 = np.linspace(0, 1, 10)\n",
    "dim = 2\n",
    "domain = []\n",
    "for a in dim1:\n",
    "    for b in dim2:\n",
    "        domain.append([a, b])\n",
    "domain = np.array(domain)\n",
    "ls = np.array([0.2, 0.2]) # length scale\n",
    "v_kernel = 0.5\n",
    "obs_noise = 0.05 ** 2\n",
    "M_target = 200\n",
    "\n",
    "# RBF kernel\n",
    "s = np.random.multivariate_normal(np.zeros(dim), 1 / (ls**2) * np.identity(dim), M_target)\n",
    "b = np.random.uniform(0, 2 * np.pi, M_target)\n",
    "\n",
    "fourier_features = {\n",
    "    \"s\": s, # frequencies\n",
    "    \"b\": b, # phases\n",
    "    \"v_kernel\": v_kernel,\n",
    "    \"obs_noise\": obs_noise,\n",
    "    \"domain\": domain\n",
    "}"
   ]
  },
  {
   "cell_type": "code",
   "execution_count": 4,
   "id": "6486695c",
   "metadata": {},
   "outputs": [],
   "source": [
    "# Train-Test data\n",
    "diabetes_data = pd.read_csv(\"data/diabetes.csv\")\n",
    "label = np.array(diabetes_data[\"Outcome\"])\n",
    "features = np.array(diabetes_data.iloc[:, :-1])\n",
    "X_train, X_test, Y_train, Y_test = train_test_split(features, label, test_size=0.3, stratify=label, random_state=0)\n",
    "n_ft = X_train.shape[1]\n",
    "n_classes = 2"
   ]
  },
  {
   "cell_type": "markdown",
   "id": "fffb649e",
   "metadata": {},
   "source": [
    "### QMC Circuit"
   ]
  },
  {
   "cell_type": "code",
   "execution_count": 5,
   "id": "eb7ac1aa",
   "metadata": {},
   "outputs": [
    {
     "data": {
      "image/png": "[encoded data removed]",
      "text/plain": [
       "<Figure size 287.496x618.722 with 1 Axes>"
      ]
     },
     "execution_count": 5,
     "metadata": {},
     "output_type": "execute_result"
    }
   ],
   "source": [
    "dummy_qmc = QMC(num_uncertainty=uncertainty_dim, means=1.0)\n",
    "dummy_qmc.mc_circuit.draw(output=\"mpl\")"
   ]
  },
  {
   "cell_type": "markdown",
   "id": "61d13959",
   "metadata": {},
   "source": [
    "### Model Priors and Train-Test Loop"
   ]
  },
  {
   "cell_type": "code",
   "execution_count": null,
   "id": "2717b982",
   "metadata": {},
   "outputs": [],
   "source": [
    "def reward_function(param, eps, obs_noise):\n",
    "    # Define priors (vary these)\n",
    "    parameter_range = [[1e-4, 1.0], [1e-4, 1.0]]\n",
    "    C_ = param[0]\n",
    "    C = C_ * (parameter_range[0][1] - parameter_range[0][0]) + parameter_range[0][0]\n",
    "    gam_ = param[1]\n",
    "    gam = gam_ * (parameter_range[1][1] - parameter_range[1][0]) + parameter_range[1][0]\n",
    "\n",
    "    # Train and estimate\n",
    "    clf = svm.SVC(kernel=\"rbf\", C=C, gamma=gam, probability=True)\n",
    "    clf.fit(X_train, Y_train)\n",
    "    pred = clf.predict(X_test)\n",
    "    acc = np.count_nonzero(pred == Y_test) / len(Y_test)\n",
    "    \n",
    "    # Update beliefs via QBO and QMC\n",
    "    qmc = QMC(num_uncertainty=uncertainty_dim, means=acc, obs_noise=obs_noise)\n",
    "    result, queries = qmc.estimate(eps)\n",
    "    return result.estimation_processed, acc, queries"
   ]
  },
  {
   "cell_type": "markdown",
   "id": "fa763edd",
   "metadata": {},
   "source": [
    "### Apply QBO with Q-LinUCB"
   ]
  },
  {
   "cell_type": "code",
   "execution_count": 7,
   "id": "4c9c4113",
   "metadata": {},
   "outputs": [
    {
     "name": "stdout",
     "output_type": "stream",
     "text": [
      "Optimization Round 1\n",
      "Shot 0 ------ x_t: [1. 1.], y_t: 0.6661300630427467\n",
      "Shot 10 ------ x_t: [1. 0.], y_t: 0.7594287960928843\n",
      "Shot 20 ------ x_t: [1. 0.], y_t: 0.7594287960928843\n",
      "Shot 30 ------ x_t: [1. 0.], y_t: 0.7594287960928843\n",
      "Shot 40 ------ x_t: [1. 0.], y_t: 0.7594287960928843\n",
      "Shot 50 ------ x_t: [1. 0.], y_t: 0.7594287960928843\n",
      "Shot 60 ------ x_t: [1. 0.], y_t: 0.7594287960928843\n",
      "Shot 70 ------ x_t: [1. 0.], y_t: 0.7594287960928843\n",
      "Shot 80 ------ x_t: [1. 0.], y_t: 0.7594287960928843\n",
      "Shot 90 ------ x_t: [1. 0.], y_t: 0.7594287960928843\n",
      "Shot 100 ------ x_t: [1. 0.], y_t: 0.7594287960928843\n",
      "Shot 110 ------ x_t: [1. 0.], y_t: 0.7594287960928843\n",
      "Shot 120 ------ x_t: [1. 0.], y_t: 0.7594287960928843\n",
      "Shot 130 ------ x_t: [1. 0.], y_t: 0.7594287960928843\n",
      "Shot 140 ------ x_t: [1. 0.], y_t: 0.7594287960928843\n",
      "Shot 150 ------ x_t: [1. 0.], y_t: 0.7594287960928843\n",
      "Shot 160 ------ x_t: [1. 0.], y_t: 0.7594287960928843\n",
      "Optimization Round 2\n",
      "Shot 0 ------ x_t: [1. 1.], y_t: 0.6661300630427467\n",
      "Shot 10 ------ x_t: [1. 0.], y_t: 0.7594287960928843\n",
      "Shot 20 ------ x_t: [1. 0.], y_t: 0.7594287960928843\n",
      "Shot 30 ------ x_t: [1. 0.], y_t: 0.7594287960928843\n",
      "Shot 40 ------ x_t: [1. 0.], y_t: 0.7594287960928843\n",
      "Shot 50 ------ x_t: [1. 0.], y_t: 0.7594287960928843\n",
      "Shot 60 ------ x_t: [1. 0.], y_t: 0.7594287960928843\n",
      "Shot 70 ------ x_t: [1. 0.], y_t: 0.7594287960928843\n",
      "Shot 80 ------ x_t: [1. 0.], y_t: 0.7594287960928843\n",
      "Shot 90 ------ x_t: [1. 0.], y_t: 0.7594287960928843\n",
      "Shot 100 ------ x_t: [1. 0.], y_t: 0.7594287960928843\n",
      "Shot 110 ------ x_t: [1. 0.], y_t: 0.7594287960928843\n",
      "Shot 120 ------ x_t: [1. 0.], y_t: 0.7594287960928843\n",
      "Shot 130 ------ x_t: [1. 0.], y_t: 0.7594287960928843\n",
      "Shot 140 ------ x_t: [1. 0.], y_t: 0.7594287960928843\n",
      "Shot 150 ------ x_t: [1. 0.], y_t: 0.7594287960928843\n",
      "Shot 160 ------ x_t: [1. 0.], y_t: 0.7594287960928843\n",
      "Optimization Round 3\n",
      "Shot 0 ------ x_t: [1. 1.], y_t: 0.6661300630427467\n",
      "Shot 10 ------ x_t: [1. 1.], y_t: 0.6661300630427467\n",
      "Shot 20 ------ x_t: [1. 1.], y_t: 0.6661300630427467\n",
      "Shot 30 ------ x_t: [1. 1.], y_t: 0.6661300630427467\n",
      "Shot 40 ------ x_t: [1. 1.], y_t: 0.6661300630427467\n",
      "Shot 50 ------ x_t: [1. 1.], y_t: 0.6661300630427467\n",
      "Shot 60 ------ x_t: [1. 1.], y_t: 0.6661300630427467\n",
      "Shot 70 ------ x_t: [1. 1.], y_t: 0.6661300630427467\n",
      "Shot 80 ------ x_t: [1. 1.], y_t: 0.6661300630427467\n",
      "Shot 90 ------ x_t: [1. 1.], y_t: 0.6661300630427467\n",
      "Shot 100 ------ x_t: [1. 1.], y_t: 0.6661300630427467\n",
      "Shot 110 ------ x_t: [1. 1.], y_t: 0.6661300630427467\n",
      "Shot 120 ------ x_t: [1. 1.], y_t: 0.6661300630427467\n",
      "Shot 130 ------ x_t: [1. 1.], y_t: 0.6661300630427467\n",
      "Shot 140 ------ x_t: [1. 1.], y_t: 0.6661300630427467\n",
      "Shot 150 ------ x_t: [1. 1.], y_t: 0.6661300630427467\n",
      "Shot 160 ------ x_t: [1. 1.], y_t: 0.6661300630427467\n",
      "Optimization Round 4\n",
      "Shot 0 ------ x_t: [1. 1.], y_t: 0.6661300630427467\n",
      "Shot 10 ------ x_t: [1. 0.], y_t: 0.7594287960928843\n",
      "Shot 20 ------ x_t: [1. 0.], y_t: 0.7594287960928843\n",
      "Shot 30 ------ x_t: [1. 0.], y_t: 0.7594287960928843\n",
      "Shot 40 ------ x_t: [1. 0.], y_t: 0.7594287960928843\n",
      "Shot 50 ------ x_t: [1. 0.], y_t: 0.7594287960928843\n",
      "Shot 60 ------ x_t: [1. 0.], y_t: 0.7594287960928843\n",
      "Shot 70 ------ x_t: [1. 0.], y_t: 0.7594287960928843\n",
      "Shot 80 ------ x_t: [1. 0.], y_t: 0.7594287960928843\n",
      "Shot 90 ------ x_t: [1. 0.], y_t: 0.7594287960928843\n",
      "Shot 100 ------ x_t: [1. 0.], y_t: 0.7594287960928843\n",
      "Shot 110 ------ x_t: [1. 0.], y_t: 0.7594287960928843\n",
      "Shot 120 ------ x_t: [1. 0.], y_t: 0.7594287960928843\n",
      "Shot 130 ------ x_t: [1. 0.], y_t: 0.7594287960928843\n",
      "Shot 140 ------ x_t: [1. 0.], y_t: 0.7594287960928843\n",
      "Shot 150 ------ x_t: [1. 0.], y_t: 0.7594287960928843\n",
      "Shot 160 ------ x_t: [1. 0.], y_t: 0.7594287960928843\n",
      "Optimization Round 5\n",
      "Shot 0 ------ x_t: [1. 1.], y_t: 0.6661300630427467\n",
      "Shot 10 ------ x_t: [0. 1.], y_t: 0.6661300630427467\n",
      "Shot 20 ------ x_t: [0. 1.], y_t: 0.6661300630427467\n",
      "Shot 30 ------ x_t: [0. 1.], y_t: 0.6661300630427467\n",
      "Shot 40 ------ x_t: [0. 1.], y_t: 0.6661300630427467\n",
      "Shot 50 ------ x_t: [0. 1.], y_t: 0.6661300630427467\n",
      "Shot 60 ------ x_t: [0. 1.], y_t: 0.6661300630427467\n",
      "Shot 70 ------ x_t: [0. 1.], y_t: 0.6661300630427467\n",
      "Shot 80 ------ x_t: [0. 1.], y_t: 0.6661300630427467\n",
      "Shot 90 ------ x_t: [0. 1.], y_t: 0.6661300630427467\n",
      "Shot 100 ------ x_t: [0. 1.], y_t: 0.6661300630427467\n",
      "Shot 110 ------ x_t: [0. 1.], y_t: 0.6661300630427467\n",
      "Shot 120 ------ x_t: [0. 1.], y_t: 0.6661300630427467\n",
      "Shot 130 ------ x_t: [0. 1.], y_t: 0.6661300630427467\n",
      "Shot 140 ------ x_t: [0. 1.], y_t: 0.6661300630427467\n",
      "Shot 150 ------ x_t: [0. 1.], y_t: 0.6661300630427467\n",
      "Shot 160 ------ x_t: [0. 1.], y_t: 0.6661300630427467\n"
     ]
    }
   ],
   "source": [
    "pbounds = {}\n",
    "for i in range(dim):\n",
    "    pbounds[\"x\" + str(i+1)] = (0, 1)\n",
    "\n",
    "ts = np.arange(1, max_iter)\n",
    "beta_t = 1 + np.sqrt(np.log(ts) ** 2)\n",
    "\n",
    "quantum_BO = None\n",
    "bandits = True\n",
    "all_lin_res = []\n",
    "for itr in range(5):\n",
    "    print(\"Optimization Round\", itr + 1)\n",
    "    np.random.seed(itr)\n",
    "\n",
    "    quantum_BO = QBO(\n",
    "        reward_func=reward_function,\n",
    "        pbounds=pbounds,\n",
    "        beta_t=beta_t,\n",
    "        random_features=fourier_features,\n",
    "        bandits=bandits,\n",
    "        domain=domain\n",
    "    )\n",
    "    quantum_BO.maximize(n_iter=max_iter, init_points=1)\n",
    "    all_lin_res.append(quantum_BO.res)"
   ]
  },
  {
   "cell_type": "code",
   "execution_count": 8,
   "id": "e915e620",
   "metadata": {},
   "outputs": [],
   "source": [
    "# res_lin_ucb = quantum_BO.res\n",
    "# print(res_lin_ucb[\"max\"])"
   ]
  },
  {
   "cell_type": "markdown",
   "id": "c1466370",
   "metadata": {},
   "source": [
    "### Apply QBO with Q-GP-UCB (ours)"
   ]
  },
  {
   "cell_type": "code",
   "execution_count": 9,
   "id": "985ec5cb",
   "metadata": {},
   "outputs": [
    {
     "name": "stdout",
     "output_type": "stream",
     "text": [
      "Optimization Round 1\n",
      "Shot 0 ------ x_t: [0.77777778 0.88888889], y_t: 0.6661300630427467\n",
      "Shot 10 ------ x_t: [0.44444444 0.11111111], y_t: 0.7594287960928843\n",
      "Shot 20 ------ x_t: [1.         0.55555556], y_t: 0.6661300630427467\n",
      "Shot 30 ------ x_t: [0.         0.77777778], y_t: 0.6661300630427467\n",
      "Shot 40 ------ x_t: [0.88888889 0.        ], y_t: 0.7777145946481913\n",
      "Shot 50 ------ x_t: [0.77777778 0.        ], y_t: 0.7659818267119474\n",
      "Optimization Round 2\n",
      "Shot 0 ------ x_t: [0.66666667 0.55555556], y_t: 0.6661300630427467\n",
      "Shot 10 ------ x_t: [0.88888889 0.33333333], y_t: 0.7777145946481913\n",
      "Shot 20 ------ x_t: [0.33333333 0.        ], y_t: 0.6661300630427467\n",
      "Shot 30 ------ x_t: [0.66666667 0.33333333], y_t: 0.6661300630427467\n",
      "Shot 40 ------ x_t: [1.         0.22222222], y_t: 0.6661300630427467\n",
      "Shot 50 ------ x_t: [0.77777778 0.        ], y_t: 0.7777145946481913\n",
      "Optimization Round 3\n",
      "Shot 0 ------ x_t: [0.66666667 0.        ], y_t: 0.7568660698427869\n",
      "Shot 10 ------ x_t: [0.55555556 1.        ], y_t: 0.6661300630427467\n",
      "Shot 20 ------ x_t: [0.66666667 0.88888889], y_t: 0.6661300630427467\n",
      "Shot 30 ------ x_t: [0.44444444 0.66666667], y_t: 0.6661300630427467\n",
      "Shot 40 ------ x_t: [0.33333333 0.        ], y_t: 0.7456453198814996\n",
      "Shot 50 ------ x_t: [0.33333333 0.        ], y_t: 0.7654623234770039\n",
      "Optimization Round 4\n",
      "Shot 0 ------ x_t: [0.77777778 0.88888889], y_t: 0.6661300630427467\n",
      "Shot 10 ------ x_t: [0.22222222 0.88888889], y_t: 0.6661300630427467\n",
      "Shot 20 ------ x_t: [1.         0.55555556], y_t: 0.7777145946481913\n",
      "Shot 30 ------ x_t: [1.         0.77777778], y_t: 0.6661300630427467\n",
      "Shot 40 ------ x_t: [0.44444444 0.        ], y_t: 0.7672903415265213\n",
      "Shot 50 ------ x_t: [0.44444444 0.        ], y_t: 0.7588855496935052\n",
      "Optimization Round 5\n",
      "Shot 0 ------ x_t: [0.77777778 0.33333333], y_t: 0.6661300630427467\n",
      "Shot 10 ------ x_t: [0.33333333 0.77777778], y_t: 0.6661300630427467\n",
      "Shot 20 ------ x_t: [0.77777778 1.        ], y_t: 0.6661300630427467\n",
      "Shot 30 ------ x_t: [0.         0.55555556], y_t: 0.6661300630427467\n",
      "Shot 40 ------ x_t: [0.44444444 0.33333333], y_t: 0.6661300630427467\n",
      "Shot 50 ------ x_t: [0.88888889 0.44444444], y_t: 0.6661300630427467\n"
     ]
    }
   ],
   "source": [
    "pbounds = {}\n",
    "for i in range(dim):\n",
    "    pbounds[\"x\" + str(i+1)] = (0, 1)\n",
    "\n",
    "ts = np.arange(1, max_iter)\n",
    "beta_t = 1 + np.sqrt(np.log(ts) ** 2)\n",
    "\n",
    "quantum_BO = None\n",
    "bandits = False\n",
    "all_gp_res = []\n",
    "for itr in range(5):\n",
    "    print(\"Optimization Round\", itr + 1)\n",
    "    np.random.seed(itr)\n",
    "\n",
    "    quantum_BO = QBO(\n",
    "        reward_func=reward_function,\n",
    "        pbounds=pbounds,\n",
    "        beta_t=beta_t,\n",
    "        random_features=fourier_features,\n",
    "        bandits=bandits,\n",
    "        domain=domain\n",
    "    )\n",
    "    quantum_BO.maximize(n_iter=max_iter, init_points=1)\n",
    "    all_gp_res.append(quantum_BO.res)"
   ]
  },
  {
   "cell_type": "code",
   "execution_count": 10,
   "id": "3c1fa973",
   "metadata": {},
   "outputs": [],
   "source": [
    "# res_gp_ucb = quantum_BO.res\n",
    "# print(res_gp_ucb[\"max\"])"
   ]
  },
  {
   "cell_type": "markdown",
   "id": "3111ad86",
   "metadata": {},
   "source": [
    "### Cumulative Regret"
   ]
  },
  {
   "cell_type": "code",
   "execution_count": 88,
   "id": "40fca112",
   "metadata": {},
   "outputs": [],
   "source": [
    "# Norm const\n",
    "f_max = 0\n",
    "for i in range(5):\n",
    "    gp_fvalues = all_gp_res[i][\"all\"][\"f_values\"]\n",
    "    lin_fvalues = all_lin_res[i][\"all\"][\"f_values\"]\n",
    "    f_max = max(f_max, max(gp_fvalues), max(lin_fvalues))"
   ]
  },
  {
   "cell_type": "code",
   "execution_count": 89,
   "id": "98fac210",
   "metadata": {},
   "outputs": [],
   "source": [
    "# Collect total cumulative regrets\n",
    "all_gp_regrets = []\n",
    "all_lin_regrets = []\n",
    "min_sims = max_iter\n",
    "for gp_res, lin_res in zip(all_gp_res, all_lin_res):\n",
    "    gp_values = gp_res[\"all\"][\"f_values\"]\n",
    "    gp_queries = gp_res[\"all\"][\"track_queries\"]\n",
    "    lin_values = lin_res[\"all\"][\"f_values\"]\n",
    "    lin_queries = lin_res[\"all\"][\"track_queries\"]\n",
    "    \n",
    "    gp_values_new = []\n",
    "    lin_values_new = []\n",
    "    for i in range(len(gp_values)):\n",
    "        gp_values_new += list(np.repeat(gp_values[i], gp_queries[i]))\n",
    "    for i in range(len(lin_values)):\n",
    "        lin_values_new += list(np.repeat(lin_values[i], lin_queries[i]))\n",
    "    \n",
    "    gp_values = np.squeeze(f_max - np.array(gp_values_new))\n",
    "    lin_values = np.squeeze(f_max - np.array(lin_values_new))\n",
    "    gp_values_acc = np.cumsum(gp_values)\n",
    "    lin_values_acc = np.cumsum(lin_values)\n",
    "    \n",
    "    min_sims = min(min_sims, len(gp_values_acc))\n",
    "    min_sims = min(min_sims, len(lin_values_acc))\n",
    "    \n",
    "    all_gp_regrets.append(gp_values_acc)\n",
    "    all_lin_regrets.append(lin_values_acc)\n",
    "\n",
    "all_gp_regrets = np.array([a[:min_sims] for a in all_gp_regrets])\n",
    "all_lin_regrets = np.array([a[:min_sims] for a in all_lin_regrets])"
   ]
  },
  {
   "cell_type": "code",
   "execution_count": 90,
   "id": "9259afb1",
   "metadata": {},
   "outputs": [],
   "source": [
    "# Compute means and confidence range\n",
    "all_gp_regrets_mean = np.mean(all_gp_regrets, axis=0)\n",
    "all_lin_regrets_mean = np.mean(all_lin_regrets, axis=0)\n",
    "\n",
    "all_gp_regrets_stderr = np.std(all_gp_regrets, axis=0) / (np.sqrt(len(all_gp_regrets)))\n",
    "all_lin_regrets_stderr = np.std(all_lin_regrets, axis=0) / (np.sqrt(len(all_lin_regrets)))\n",
    "\n",
    "all_gp_regrets_ub = all_gp_regrets_mean + all_gp_regrets_stderr\n",
    "all_gp_regrets_lb = all_gp_regrets_mean - all_gp_regrets_stderr\n",
    "all_lin_regrets_ub = all_lin_regrets_mean + all_lin_regrets_stderr\n",
    "all_lin_regrets_lb = all_lin_regrets_mean - all_lin_regrets_stderr"
   ]
  },
  {
   "cell_type": "code",
   "execution_count": 91,
   "id": "2028062d",
   "metadata": {},
   "outputs": [
    {
     "name": "stdout",
     "output_type": "stream",
     "text": [
      "(1000,)\n",
      "(1000,)\n"
     ]
    }
   ],
   "source": [
    "print(all_gp_regrets_mean.shape)\n",
    "print(all_lin_regrets_mean.shape)"
   ]
  },
  {
   "cell_type": "code",
   "execution_count": 92,
   "id": "a69f25f3",
   "metadata": {},
   "outputs": [
    {
     "data": {
      "image/png": "[encoded data removed]",
      "text/plain": [
       "<Figure size 800x600 with 1 Axes>"
      ]
     },
     "metadata": {},
     "output_type": "display_data"
    }
   ],
   "source": [
    "# NOTE: Lower cum regret is better. Q-QP-UCB wins out as iters increases\n",
    "\n",
    "plt.figure(figsize=(8, 6))\n",
    "ts = np.arange(0, min_sims)\n",
    "\n",
    "# Plot Q-GP-UCB regrets\n",
    "plt.fill_between(ts, all_gp_regrets_ub, all_gp_regrets_lb, color=\"b\", alpha=0.2)\n",
    "plt.plot(ts, all_gp_regrets_mean, \"b\", marker=\"o\", markersize=8, markevery=100)\n",
    "\n",
    "# Plot Q-LIN-UCB regrets\n",
    "plt.fill_between(ts, all_lin_regrets_ub, all_lin_regrets_lb, color=\"r\", alpha=0.2)\n",
    "plt.plot(ts, all_lin_regrets_mean, \"r\", marker=\"x\", markersize=8, markevery=100)\n",
    "\n",
    "plt.ylabel(\"Cum Regret\")\n",
    "plt.xlabel(\"Iters\")\n",
    "plt.show()"
   ]
  }
 ],
 "metadata": {
  "kernelspec": {
   "display_name": "qbo",
   "language": "python",
   "name": "python3"
  },
  "language_info": {
   "codemirror_mode": {
    "name": "ipython",
    "version": 3
   },
   "file_extension": ".py",
   "mimetype": "text/x-python",
   "name": "python",
   "nbconvert_exporter": "python",
   "pygments_lexer": "ipython3",
   "version": "3.11.11"
  }
 },
 "nbformat": 4,
 "nbformat_minor": 5
}
